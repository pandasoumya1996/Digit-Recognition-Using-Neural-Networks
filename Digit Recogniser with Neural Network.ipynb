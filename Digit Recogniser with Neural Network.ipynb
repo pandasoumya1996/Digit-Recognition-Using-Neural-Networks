{
 "cells": [
  {
   "cell_type": "code",
   "execution_count": 4,
   "id": "2e136850",
   "metadata": {},
   "outputs": [
    {
     "name": "stdout",
     "output_type": "stream",
     "text": [
      "Collecting tensorflow\n",
      "  Downloading tensorflow-2.9.1-cp39-cp39-win_amd64.whl (444.0 MB)\n",
      "Requirement already satisfied: protobuf<3.20,>=3.9.2 in c:\\users\\panda\\anaconda3\\lib\\site-packages (from tensorflow) (3.19.1)\n",
      "Requirement already satisfied: numpy>=1.20 in c:\\users\\panda\\anaconda3\\lib\\site-packages (from tensorflow) (1.21.5)\n",
      "Requirement already satisfied: packaging in c:\\users\\panda\\anaconda3\\lib\\site-packages (from tensorflow) (21.3)\n",
      "Requirement already satisfied: grpcio<2.0,>=1.24.3 in c:\\users\\panda\\anaconda3\\lib\\site-packages (from tensorflow) (1.42.0)\n",
      "Requirement already satisfied: setuptools in c:\\users\\panda\\anaconda3\\lib\\site-packages (from tensorflow) (61.2.0)\n",
      "Collecting google-pasta>=0.1.1\n",
      "  Downloading google_pasta-0.2.0-py3-none-any.whl (57 kB)\n",
      "Collecting tensorflow-estimator<2.10.0,>=2.9.0rc0\n",
      "  Downloading tensorflow_estimator-2.9.0-py2.py3-none-any.whl (438 kB)\n",
      "Collecting tensorflow-io-gcs-filesystem>=0.23.1\n",
      "  Downloading tensorflow_io_gcs_filesystem-0.26.0-cp39-cp39-win_amd64.whl (1.5 MB)\n",
      "Collecting keras-preprocessing>=1.1.1\n",
      "  Downloading Keras_Preprocessing-1.1.2-py2.py3-none-any.whl (42 kB)\n",
      "Collecting libclang>=13.0.0\n",
      "  Downloading libclang-14.0.6-py2.py3-none-win_amd64.whl (14.2 MB)\n",
      "Collecting opt-einsum>=2.3.2\n",
      "  Downloading opt_einsum-3.3.0-py3-none-any.whl (65 kB)\n",
      "Requirement already satisfied: h5py>=2.9.0 in c:\\users\\panda\\anaconda3\\lib\\site-packages (from tensorflow) (3.6.0)\n",
      "Collecting astunparse>=1.6.0\n",
      "  Downloading astunparse-1.6.3-py2.py3-none-any.whl (12 kB)\n",
      "Collecting termcolor>=1.1.0\n",
      "  Downloading termcolor-1.1.0.tar.gz (3.9 kB)\n",
      "Collecting flatbuffers<2,>=1.12\n",
      "  Downloading flatbuffers-1.12-py2.py3-none-any.whl (15 kB)\n",
      "Collecting tensorboard<2.10,>=2.9\n",
      "  Downloading tensorboard-2.9.1-py3-none-any.whl (5.8 MB)\n",
      "Collecting gast<=0.4.0,>=0.2.1\n",
      "  Downloading gast-0.4.0-py3-none-any.whl (9.8 kB)\n",
      "Requirement already satisfied: wrapt>=1.11.0 in c:\\users\\panda\\anaconda3\\lib\\site-packages (from tensorflow) (1.12.1)\n",
      "Collecting keras<2.10.0,>=2.9.0rc0\n",
      "  Downloading keras-2.9.0-py2.py3-none-any.whl (1.6 MB)\n",
      "Collecting absl-py>=1.0.0\n",
      "  Downloading absl_py-1.2.0-py3-none-any.whl (123 kB)\n",
      "Requirement already satisfied: typing-extensions>=3.6.6 in c:\\users\\panda\\anaconda3\\lib\\site-packages (from tensorflow) (4.1.1)\n",
      "Requirement already satisfied: six>=1.12.0 in c:\\users\\panda\\anaconda3\\lib\\site-packages (from tensorflow) (1.16.0)\n",
      "Requirement already satisfied: wheel<1.0,>=0.23.0 in c:\\users\\panda\\anaconda3\\lib\\site-packages (from astunparse>=1.6.0->tensorflow) (0.37.1)\n",
      "Requirement already satisfied: werkzeug>=1.0.1 in c:\\users\\panda\\anaconda3\\lib\\site-packages (from tensorboard<2.10,>=2.9->tensorflow) (2.0.3)\n",
      "Collecting tensorboard-data-server<0.7.0,>=0.6.0\n",
      "  Downloading tensorboard_data_server-0.6.1-py3-none-any.whl (2.4 kB)\n",
      "Requirement already satisfied: markdown>=2.6.8 in c:\\users\\panda\\anaconda3\\lib\\site-packages (from tensorboard<2.10,>=2.9->tensorflow) (3.3.4)\n",
      "Requirement already satisfied: google-auth<3,>=1.6.3 in c:\\users\\panda\\anaconda3\\lib\\site-packages (from tensorboard<2.10,>=2.9->tensorflow) (1.33.0)\n",
      "Collecting google-auth-oauthlib<0.5,>=0.4.1\n",
      "  Downloading google_auth_oauthlib-0.4.6-py2.py3-none-any.whl (18 kB)\n",
      "Requirement already satisfied: requests<3,>=2.21.0 in c:\\users\\panda\\anaconda3\\lib\\site-packages (from tensorboard<2.10,>=2.9->tensorflow) (2.27.1)\n",
      "Collecting tensorboard-plugin-wit>=1.6.0\n",
      "  Downloading tensorboard_plugin_wit-1.8.1-py3-none-any.whl (781 kB)\n",
      "Requirement already satisfied: rsa<5,>=3.1.4 in c:\\users\\panda\\anaconda3\\lib\\site-packages (from google-auth<3,>=1.6.3->tensorboard<2.10,>=2.9->tensorflow) (4.7.2)\n",
      "Requirement already satisfied: cachetools<5.0,>=2.0.0 in c:\\users\\panda\\anaconda3\\lib\\site-packages (from google-auth<3,>=1.6.3->tensorboard<2.10,>=2.9->tensorflow) (4.2.2)\n",
      "Requirement already satisfied: pyasn1-modules>=0.2.1 in c:\\users\\panda\\anaconda3\\lib\\site-packages (from google-auth<3,>=1.6.3->tensorboard<2.10,>=2.9->tensorflow) (0.2.8)\n",
      "Collecting requests-oauthlib>=0.7.0\n",
      "  Downloading requests_oauthlib-1.3.1-py2.py3-none-any.whl (23 kB)\n",
      "Requirement already satisfied: pyasn1<0.5.0,>=0.4.6 in c:\\users\\panda\\anaconda3\\lib\\site-packages (from pyasn1-modules>=0.2.1->google-auth<3,>=1.6.3->tensorboard<2.10,>=2.9->tensorflow) (0.4.8)\n",
      "Requirement already satisfied: idna<4,>=2.5 in c:\\users\\panda\\anaconda3\\lib\\site-packages (from requests<3,>=2.21.0->tensorboard<2.10,>=2.9->tensorflow) (3.3)\n",
      "Requirement already satisfied: charset-normalizer~=2.0.0 in c:\\users\\panda\\anaconda3\\lib\\site-packages (from requests<3,>=2.21.0->tensorboard<2.10,>=2.9->tensorflow) (2.0.4)\n",
      "Requirement already satisfied: urllib3<1.27,>=1.21.1 in c:\\users\\panda\\anaconda3\\lib\\site-packages (from requests<3,>=2.21.0->tensorboard<2.10,>=2.9->tensorflow) (1.26.9)\n",
      "Requirement already satisfied: certifi>=2017.4.17 in c:\\users\\panda\\anaconda3\\lib\\site-packages (from requests<3,>=2.21.0->tensorboard<2.10,>=2.9->tensorflow) (2021.10.8)\n",
      "Collecting oauthlib>=3.0.0\n",
      "  Downloading oauthlib-3.2.0-py3-none-any.whl (151 kB)\n",
      "Requirement already satisfied: pyparsing!=3.0.5,>=2.0.2 in c:\\users\\panda\\anaconda3\\lib\\site-packages (from packaging->tensorflow) (3.0.4)\n",
      "Building wheels for collected packages: termcolor\n",
      "  Building wheel for termcolor (setup.py): started\n",
      "  Building wheel for termcolor (setup.py): finished with status 'done'\n",
      "  Created wheel for termcolor: filename=termcolor-1.1.0-py3-none-any.whl size=4848 sha256=8bb384951ec8c202923e5a62efe47d65ca653e582e86a121f45b0a9f82ff4d9d\n",
      "  Stored in directory: c:\\users\\panda\\appdata\\local\\pip\\cache\\wheels\\b6\\0d\\90\\0d1bbd99855f99cb2f6c2e5ff96f8023fad8ec367695f7d72d\n",
      "Successfully built termcolor\n",
      "Installing collected packages: oauthlib, requests-oauthlib, tensorboard-plugin-wit, tensorboard-data-server, google-auth-oauthlib, absl-py, termcolor, tensorflow-io-gcs-filesystem, tensorflow-estimator, tensorboard, opt-einsum, libclang, keras-preprocessing, keras, google-pasta, gast, flatbuffers, astunparse, tensorflow\n",
      "Successfully installed absl-py-1.2.0 astunparse-1.6.3 flatbuffers-1.12 gast-0.4.0 google-auth-oauthlib-0.4.6 google-pasta-0.2.0 keras-2.9.0 keras-preprocessing-1.1.2 libclang-14.0.6 oauthlib-3.2.0 opt-einsum-3.3.0 requests-oauthlib-1.3.1 tensorboard-2.9.1 tensorboard-data-server-0.6.1 tensorboard-plugin-wit-1.8.1 tensorflow-2.9.1 tensorflow-estimator-2.9.0 tensorflow-io-gcs-filesystem-0.26.0 termcolor-1.1.0\n"
     ]
    }
   ],
   "source": [
    "!pip install tensorflow"
   ]
  },
  {
   "cell_type": "code",
   "execution_count": 46,
   "id": "5f22a4bb",
   "metadata": {},
   "outputs": [],
   "source": [
    "import tensorflow as tf\n",
    "from tensorflow import keras\n",
    "import matplotlib.pyplot as plt\n",
    "%matplotlib inline\n",
    "import numpy as np\n",
    "from keras.utils.np_utils import to_categorical # convert to one-hot-encoding\n",
    "from keras.models import Sequential\n",
    "from keras.layers import Dense, Dropout, Flatten, Conv2D, MaxPool2D\n",
    "from keras.optimizers import RMSprop\n",
    "from keras.preprocessing.image import ImageDataGenerator\n",
    "from keras.callbacks import ReduceLROnPlateau"
   ]
  },
  {
   "cell_type": "code",
   "execution_count": 7,
   "id": "57e9e405",
   "metadata": {},
   "outputs": [
    {
     "name": "stdout",
     "output_type": "stream",
     "text": [
      "Downloading data from https://storage.googleapis.com/tensorflow/tf-keras-datasets/mnist.npz\n",
      "11490434/11490434 [==============================] - 1s 0us/step\n"
     ]
    }
   ],
   "source": [
    "(X_train, y_train) , (X_test, y_test) = keras.datasets.mnist.load_data()"
   ]
  },
  {
   "cell_type": "code",
   "execution_count": 8,
   "id": "6c47b90b",
   "metadata": {},
   "outputs": [
    {
     "data": {
      "text/plain": [
       "60000"
      ]
     },
     "execution_count": 8,
     "metadata": {},
     "output_type": "execute_result"
    }
   ],
   "source": [
    "len(X_train)"
   ]
  },
  {
   "cell_type": "code",
   "execution_count": 9,
   "id": "5f8ef5bc",
   "metadata": {},
   "outputs": [
    {
     "data": {
      "text/plain": [
       "10000"
      ]
     },
     "execution_count": 9,
     "metadata": {},
     "output_type": "execute_result"
    }
   ],
   "source": [
    "len(X_test)"
   ]
  },
  {
   "cell_type": "code",
   "execution_count": 10,
   "id": "4541edec",
   "metadata": {},
   "outputs": [
    {
     "data": {
      "text/plain": [
       "(28, 28)"
      ]
     },
     "execution_count": 10,
     "metadata": {},
     "output_type": "execute_result"
    }
   ],
   "source": [
    "X_train[0].shape"
   ]
  },
  {
   "cell_type": "code",
   "execution_count": 11,
   "id": "2ad7b021",
   "metadata": {},
   "outputs": [
    {
     "data": {
      "text/plain": [
       "array([[  0,   0,   0,   0,   0,   0,   0,   0,   0,   0,   0,   0,   0,\n",
       "          0,   0,   0,   0,   0,   0,   0,   0,   0,   0,   0,   0,   0,\n",
       "          0,   0],\n",
       "       [  0,   0,   0,   0,   0,   0,   0,   0,   0,   0,   0,   0,   0,\n",
       "          0,   0,   0,   0,   0,   0,   0,   0,   0,   0,   0,   0,   0,\n",
       "          0,   0],\n",
       "       [  0,   0,   0,   0,   0,   0,   0,   0,   0,   0,   0,   0,   0,\n",
       "          0,   0,   0,   0,   0,   0,   0,   0,   0,   0,   0,   0,   0,\n",
       "          0,   0],\n",
       "       [  0,   0,   0,   0,   0,   0,   0,   0,   0,   0,   0,   0,   0,\n",
       "          0,   0,   0,   0,   0,   0,   0,   0,   0,   0,   0,   0,   0,\n",
       "          0,   0],\n",
       "       [  0,   0,   0,   0,   0,   0,   0,   0,   0,   0,   0,   0,   0,\n",
       "          0,   0,   0,   0,   0,   0,   0,   0,   0,   0,   0,   0,   0,\n",
       "          0,   0],\n",
       "       [  0,   0,   0,   0,   0,   0,   0,   0,   0,   0,   0,   0,   3,\n",
       "         18,  18,  18, 126, 136, 175,  26, 166, 255, 247, 127,   0,   0,\n",
       "          0,   0],\n",
       "       [  0,   0,   0,   0,   0,   0,   0,   0,  30,  36,  94, 154, 170,\n",
       "        253, 253, 253, 253, 253, 225, 172, 253, 242, 195,  64,   0,   0,\n",
       "          0,   0],\n",
       "       [  0,   0,   0,   0,   0,   0,   0,  49, 238, 253, 253, 253, 253,\n",
       "        253, 253, 253, 253, 251,  93,  82,  82,  56,  39,   0,   0,   0,\n",
       "          0,   0],\n",
       "       [  0,   0,   0,   0,   0,   0,   0,  18, 219, 253, 253, 253, 253,\n",
       "        253, 198, 182, 247, 241,   0,   0,   0,   0,   0,   0,   0,   0,\n",
       "          0,   0],\n",
       "       [  0,   0,   0,   0,   0,   0,   0,   0,  80, 156, 107, 253, 253,\n",
       "        205,  11,   0,  43, 154,   0,   0,   0,   0,   0,   0,   0,   0,\n",
       "          0,   0],\n",
       "       [  0,   0,   0,   0,   0,   0,   0,   0,   0,  14,   1, 154, 253,\n",
       "         90,   0,   0,   0,   0,   0,   0,   0,   0,   0,   0,   0,   0,\n",
       "          0,   0],\n",
       "       [  0,   0,   0,   0,   0,   0,   0,   0,   0,   0,   0, 139, 253,\n",
       "        190,   2,   0,   0,   0,   0,   0,   0,   0,   0,   0,   0,   0,\n",
       "          0,   0],\n",
       "       [  0,   0,   0,   0,   0,   0,   0,   0,   0,   0,   0,  11, 190,\n",
       "        253,  70,   0,   0,   0,   0,   0,   0,   0,   0,   0,   0,   0,\n",
       "          0,   0],\n",
       "       [  0,   0,   0,   0,   0,   0,   0,   0,   0,   0,   0,   0,  35,\n",
       "        241, 225, 160, 108,   1,   0,   0,   0,   0,   0,   0,   0,   0,\n",
       "          0,   0],\n",
       "       [  0,   0,   0,   0,   0,   0,   0,   0,   0,   0,   0,   0,   0,\n",
       "         81, 240, 253, 253, 119,  25,   0,   0,   0,   0,   0,   0,   0,\n",
       "          0,   0],\n",
       "       [  0,   0,   0,   0,   0,   0,   0,   0,   0,   0,   0,   0,   0,\n",
       "          0,  45, 186, 253, 253, 150,  27,   0,   0,   0,   0,   0,   0,\n",
       "          0,   0],\n",
       "       [  0,   0,   0,   0,   0,   0,   0,   0,   0,   0,   0,   0,   0,\n",
       "          0,   0,  16,  93, 252, 253, 187,   0,   0,   0,   0,   0,   0,\n",
       "          0,   0],\n",
       "       [  0,   0,   0,   0,   0,   0,   0,   0,   0,   0,   0,   0,   0,\n",
       "          0,   0,   0,   0, 249, 253, 249,  64,   0,   0,   0,   0,   0,\n",
       "          0,   0],\n",
       "       [  0,   0,   0,   0,   0,   0,   0,   0,   0,   0,   0,   0,   0,\n",
       "          0,  46, 130, 183, 253, 253, 207,   2,   0,   0,   0,   0,   0,\n",
       "          0,   0],\n",
       "       [  0,   0,   0,   0,   0,   0,   0,   0,   0,   0,   0,   0,  39,\n",
       "        148, 229, 253, 253, 253, 250, 182,   0,   0,   0,   0,   0,   0,\n",
       "          0,   0],\n",
       "       [  0,   0,   0,   0,   0,   0,   0,   0,   0,   0,  24, 114, 221,\n",
       "        253, 253, 253, 253, 201,  78,   0,   0,   0,   0,   0,   0,   0,\n",
       "          0,   0],\n",
       "       [  0,   0,   0,   0,   0,   0,   0,   0,  23,  66, 213, 253, 253,\n",
       "        253, 253, 198,  81,   2,   0,   0,   0,   0,   0,   0,   0,   0,\n",
       "          0,   0],\n",
       "       [  0,   0,   0,   0,   0,   0,  18, 171, 219, 253, 253, 253, 253,\n",
       "        195,  80,   9,   0,   0,   0,   0,   0,   0,   0,   0,   0,   0,\n",
       "          0,   0],\n",
       "       [  0,   0,   0,   0,  55, 172, 226, 253, 253, 253, 253, 244, 133,\n",
       "         11,   0,   0,   0,   0,   0,   0,   0,   0,   0,   0,   0,   0,\n",
       "          0,   0],\n",
       "       [  0,   0,   0,   0, 136, 253, 253, 253, 212, 135, 132,  16,   0,\n",
       "          0,   0,   0,   0,   0,   0,   0,   0,   0,   0,   0,   0,   0,\n",
       "          0,   0],\n",
       "       [  0,   0,   0,   0,   0,   0,   0,   0,   0,   0,   0,   0,   0,\n",
       "          0,   0,   0,   0,   0,   0,   0,   0,   0,   0,   0,   0,   0,\n",
       "          0,   0],\n",
       "       [  0,   0,   0,   0,   0,   0,   0,   0,   0,   0,   0,   0,   0,\n",
       "          0,   0,   0,   0,   0,   0,   0,   0,   0,   0,   0,   0,   0,\n",
       "          0,   0],\n",
       "       [  0,   0,   0,   0,   0,   0,   0,   0,   0,   0,   0,   0,   0,\n",
       "          0,   0,   0,   0,   0,   0,   0,   0,   0,   0,   0,   0,   0,\n",
       "          0,   0]], dtype=uint8)"
      ]
     },
     "execution_count": 11,
     "metadata": {},
     "output_type": "execute_result"
    }
   ],
   "source": [
    "X_train[0]"
   ]
  },
  {
   "cell_type": "code",
   "execution_count": 16,
   "id": "a2997e7c",
   "metadata": {},
   "outputs": [
    {
     "data": {
      "text/plain": [
       "<matplotlib.image.AxesImage at 0x22cdc860490>"
      ]
     },
     "execution_count": 16,
     "metadata": {},
     "output_type": "execute_result"
    },
    {
     "data": {
      "text/plain": [
       "<Figure size 432x288 with 0 Axes>"
      ]
     },
     "metadata": {},
     "output_type": "display_data"
    },
    {
     "data": {
      "image/png": "[encoded data removed]",
      "text/plain": [
       "<Figure size 288x288 with 1 Axes>"
      ]
     },
     "metadata": {
      "needs_background": "light"
     },
     "output_type": "display_data"
    }
   ],
   "source": [
    "plt.gray()\n",
    "plt.matshow(X_train[0])"
   ]
  },
  {
   "cell_type": "code",
   "execution_count": 17,
   "id": "e1957dea",
   "metadata": {},
   "outputs": [
    {
     "data": {
      "text/plain": [
       "5"
      ]
     },
     "execution_count": 17,
     "metadata": {},
     "output_type": "execute_result"
    }
   ],
   "source": [
    "y_train[0]"
   ]
  },
  {
   "cell_type": "code",
   "execution_count": 18,
   "id": "e2d6bd70",
   "metadata": {},
   "outputs": [],
   "source": [
    "X_train = X_train / 255\n",
    "X_test = X_test / 255"
   ]
  },
  {
   "cell_type": "code",
   "execution_count": 19,
   "id": "29001311",
   "metadata": {},
   "outputs": [],
   "source": [
    "X_train_flattened = X_train.reshape(len(X_train), 28*28)\n",
    "X_test_flattened = X_test.reshape(len(X_test), 28*28)"
   ]
  },
  {
   "cell_type": "code",
   "execution_count": 20,
   "id": "7ae4e893",
   "metadata": {},
   "outputs": [
    {
     "data": {
      "text/plain": [
       "(60000, 784)"
      ]
     },
     "execution_count": 20,
     "metadata": {},
     "output_type": "execute_result"
    }
   ],
   "source": [
    "X_train_flattened.shape"
   ]
  },
  {
   "cell_type": "code",
   "execution_count": 21,
   "id": "16fdb8b3",
   "metadata": {},
   "outputs": [
    {
     "data": {
      "text/plain": [
       "array([0.        , 0.        , 0.        , 0.        , 0.        ,\n",
       "       0.        , 0.        , 0.        , 0.        , 0.        ,\n",
       "       0.        , 0.        , 0.        , 0.        , 0.        ,\n",
       "       0.        , 0.        , 0.        , 0.        , 0.        ,\n",
       "       0.        , 0.        , 0.        , 0.        , 0.        ,\n",
       "       0.        , 0.        , 0.        , 0.        , 0.        ,\n",
       "       0.        , 0.        , 0.        , 0.        , 0.        ,\n",
       "       0.        , 0.        , 0.        , 0.        , 0.        ,\n",
       "       0.        , 0.        , 0.        , 0.        , 0.        ,\n",
       "       0.        , 0.        , 0.        , 0.        , 0.        ,\n",
       "       0.        , 0.        , 0.        , 0.        , 0.        ,\n",
       "       0.        , 0.        , 0.        , 0.        , 0.        ,\n",
       "       0.        , 0.        , 0.        , 0.        , 0.        ,\n",
       "       0.        , 0.        , 0.        , 0.        , 0.        ,\n",
       "       0.        , 0.        , 0.        , 0.        , 0.        ,\n",
       "       0.        , 0.        , 0.        , 0.        , 0.        ,\n",
       "       0.        , 0.        , 0.        , 0.        , 0.        ,\n",
       "       0.        , 0.        , 0.        , 0.        , 0.        ,\n",
       "       0.        , 0.        , 0.        , 0.        , 0.        ,\n",
       "       0.        , 0.        , 0.        , 0.        , 0.        ,\n",
       "       0.        , 0.        , 0.        , 0.        , 0.        ,\n",
       "       0.        , 0.        , 0.        , 0.        , 0.        ,\n",
       "       0.        , 0.        , 0.        , 0.        , 0.        ,\n",
       "       0.        , 0.        , 0.        , 0.        , 0.        ,\n",
       "       0.        , 0.        , 0.        , 0.        , 0.        ,\n",
       "       0.        , 0.        , 0.        , 0.        , 0.        ,\n",
       "       0.        , 0.        , 0.        , 0.        , 0.        ,\n",
       "       0.        , 0.        , 0.        , 0.        , 0.        ,\n",
       "       0.        , 0.        , 0.        , 0.        , 0.        ,\n",
       "       0.        , 0.        , 0.        , 0.        , 0.        ,\n",
       "       0.        , 0.        , 0.01176471, 0.07058824, 0.07058824,\n",
       "       0.07058824, 0.49411765, 0.53333333, 0.68627451, 0.10196078,\n",
       "       0.65098039, 1.        , 0.96862745, 0.49803922, 0.        ,\n",
       "       0.        , 0.        , 0.        , 0.        , 0.        ,\n",
       "       0.        , 0.        , 0.        , 0.        , 0.        ,\n",
       "       0.        , 0.11764706, 0.14117647, 0.36862745, 0.60392157,\n",
       "       0.66666667, 0.99215686, 0.99215686, 0.99215686, 0.99215686,\n",
       "       0.99215686, 0.88235294, 0.6745098 , 0.99215686, 0.94901961,\n",
       "       0.76470588, 0.25098039, 0.        , 0.        , 0.        ,\n",
       "       0.        , 0.        , 0.        , 0.        , 0.        ,\n",
       "       0.        , 0.        , 0.        , 0.19215686, 0.93333333,\n",
       "       0.99215686, 0.99215686, 0.99215686, 0.99215686, 0.99215686,\n",
       "       0.99215686, 0.99215686, 0.99215686, 0.98431373, 0.36470588,\n",
       "       0.32156863, 0.32156863, 0.21960784, 0.15294118, 0.        ,\n",
       "       0.        , 0.        , 0.        , 0.        , 0.        ,\n",
       "       0.        , 0.        , 0.        , 0.        , 0.        ,\n",
       "       0.        , 0.07058824, 0.85882353, 0.99215686, 0.99215686,\n",
       "       0.99215686, 0.99215686, 0.99215686, 0.77647059, 0.71372549,\n",
       "       0.96862745, 0.94509804, 0.        , 0.        , 0.        ,\n",
       "       0.        , 0.        , 0.        , 0.        , 0.        ,\n",
       "       0.        , 0.        , 0.        , 0.        , 0.        ,\n",
       "       0.        , 0.        , 0.        , 0.        , 0.        ,\n",
       "       0.31372549, 0.61176471, 0.41960784, 0.99215686, 0.99215686,\n",
       "       0.80392157, 0.04313725, 0.        , 0.16862745, 0.60392157,\n",
       "       0.        , 0.        , 0.        , 0.        , 0.        ,\n",
       "       0.        , 0.        , 0.        , 0.        , 0.        ,\n",
       "       0.        , 0.        , 0.        , 0.        , 0.        ,\n",
       "       0.        , 0.        , 0.        , 0.        , 0.05490196,\n",
       "       0.00392157, 0.60392157, 0.99215686, 0.35294118, 0.        ,\n",
       "       0.        , 0.        , 0.        , 0.        , 0.        ,\n",
       "       0.        , 0.        , 0.        , 0.        , 0.        ,\n",
       "       0.        , 0.        , 0.        , 0.        , 0.        ,\n",
       "       0.        , 0.        , 0.        , 0.        , 0.        ,\n",
       "       0.        , 0.        , 0.        , 0.        , 0.54509804,\n",
       "       0.99215686, 0.74509804, 0.00784314, 0.        , 0.        ,\n",
       "       0.        , 0.        , 0.        , 0.        , 0.        ,\n",
       "       0.        , 0.        , 0.        , 0.        , 0.        ,\n",
       "       0.        , 0.        , 0.        , 0.        , 0.        ,\n",
       "       0.        , 0.        , 0.        , 0.        , 0.        ,\n",
       "       0.        , 0.        , 0.04313725, 0.74509804, 0.99215686,\n",
       "       0.2745098 , 0.        , 0.        , 0.        , 0.        ,\n",
       "       0.        , 0.        , 0.        , 0.        , 0.        ,\n",
       "       0.        , 0.        , 0.        , 0.        , 0.        ,\n",
       "       0.        , 0.        , 0.        , 0.        , 0.        ,\n",
       "       0.        , 0.        , 0.        , 0.        , 0.        ,\n",
       "       0.        , 0.1372549 , 0.94509804, 0.88235294, 0.62745098,\n",
       "       0.42352941, 0.00392157, 0.        , 0.        , 0.        ,\n",
       "       0.        , 0.        , 0.        , 0.        , 0.        ,\n",
       "       0.        , 0.        , 0.        , 0.        , 0.        ,\n",
       "       0.        , 0.        , 0.        , 0.        , 0.        ,\n",
       "       0.        , 0.        , 0.        , 0.        , 0.        ,\n",
       "       0.31764706, 0.94117647, 0.99215686, 0.99215686, 0.46666667,\n",
       "       0.09803922, 0.        , 0.        , 0.        , 0.        ,\n",
       "       0.        , 0.        , 0.        , 0.        , 0.        ,\n",
       "       0.        , 0.        , 0.        , 0.        , 0.        ,\n",
       "       0.        , 0.        , 0.        , 0.        , 0.        ,\n",
       "       0.        , 0.        , 0.        , 0.        , 0.17647059,\n",
       "       0.72941176, 0.99215686, 0.99215686, 0.58823529, 0.10588235,\n",
       "       0.        , 0.        , 0.        , 0.        , 0.        ,\n",
       "       0.        , 0.        , 0.        , 0.        , 0.        ,\n",
       "       0.        , 0.        , 0.        , 0.        , 0.        ,\n",
       "       0.        , 0.        , 0.        , 0.        , 0.        ,\n",
       "       0.        , 0.        , 0.        , 0.0627451 , 0.36470588,\n",
       "       0.98823529, 0.99215686, 0.73333333, 0.        , 0.        ,\n",
       "       0.        , 0.        , 0.        , 0.        , 0.        ,\n",
       "       0.        , 0.        , 0.        , 0.        , 0.        ,\n",
       "       0.        , 0.        , 0.        , 0.        , 0.        ,\n",
       "       0.        , 0.        , 0.        , 0.        , 0.        ,\n",
       "       0.        , 0.        , 0.        , 0.97647059, 0.99215686,\n",
       "       0.97647059, 0.25098039, 0.        , 0.        , 0.        ,\n",
       "       0.        , 0.        , 0.        , 0.        , 0.        ,\n",
       "       0.        , 0.        , 0.        , 0.        , 0.        ,\n",
       "       0.        , 0.        , 0.        , 0.        , 0.        ,\n",
       "       0.        , 0.        , 0.        , 0.18039216, 0.50980392,\n",
       "       0.71764706, 0.99215686, 0.99215686, 0.81176471, 0.00784314,\n",
       "       0.        , 0.        , 0.        , 0.        , 0.        ,\n",
       "       0.        , 0.        , 0.        , 0.        , 0.        ,\n",
       "       0.        , 0.        , 0.        , 0.        , 0.        ,\n",
       "       0.        , 0.        , 0.        , 0.        , 0.15294118,\n",
       "       0.58039216, 0.89803922, 0.99215686, 0.99215686, 0.99215686,\n",
       "       0.98039216, 0.71372549, 0.        , 0.        , 0.        ,\n",
       "       0.        , 0.        , 0.        , 0.        , 0.        ,\n",
       "       0.        , 0.        , 0.        , 0.        , 0.        ,\n",
       "       0.        , 0.        , 0.        , 0.        , 0.        ,\n",
       "       0.09411765, 0.44705882, 0.86666667, 0.99215686, 0.99215686,\n",
       "       0.99215686, 0.99215686, 0.78823529, 0.30588235, 0.        ,\n",
       "       0.        , 0.        , 0.        , 0.        , 0.        ,\n",
       "       0.        , 0.        , 0.        , 0.        , 0.        ,\n",
       "       0.        , 0.        , 0.        , 0.        , 0.        ,\n",
       "       0.        , 0.09019608, 0.25882353, 0.83529412, 0.99215686,\n",
       "       0.99215686, 0.99215686, 0.99215686, 0.77647059, 0.31764706,\n",
       "       0.00784314, 0.        , 0.        , 0.        , 0.        ,\n",
       "       0.        , 0.        , 0.        , 0.        , 0.        ,\n",
       "       0.        , 0.        , 0.        , 0.        , 0.        ,\n",
       "       0.        , 0.        , 0.07058824, 0.67058824, 0.85882353,\n",
       "       0.99215686, 0.99215686, 0.99215686, 0.99215686, 0.76470588,\n",
       "       0.31372549, 0.03529412, 0.        , 0.        , 0.        ,\n",
       "       0.        , 0.        , 0.        , 0.        , 0.        ,\n",
       "       0.        , 0.        , 0.        , 0.        , 0.        ,\n",
       "       0.        , 0.        , 0.        , 0.21568627, 0.6745098 ,\n",
       "       0.88627451, 0.99215686, 0.99215686, 0.99215686, 0.99215686,\n",
       "       0.95686275, 0.52156863, 0.04313725, 0.        , 0.        ,\n",
       "       0.        , 0.        , 0.        , 0.        , 0.        ,\n",
       "       0.        , 0.        , 0.        , 0.        , 0.        ,\n",
       "       0.        , 0.        , 0.        , 0.        , 0.        ,\n",
       "       0.        , 0.53333333, 0.99215686, 0.99215686, 0.99215686,\n",
       "       0.83137255, 0.52941176, 0.51764706, 0.0627451 , 0.        ,\n",
       "       0.        , 0.        , 0.        , 0.        , 0.        ,\n",
       "       0.        , 0.        , 0.        , 0.        , 0.        ,\n",
       "       0.        , 0.        , 0.        , 0.        , 0.        ,\n",
       "       0.        , 0.        , 0.        , 0.        , 0.        ,\n",
       "       0.        , 0.        , 0.        , 0.        , 0.        ,\n",
       "       0.        , 0.        , 0.        , 0.        , 0.        ,\n",
       "       0.        , 0.        , 0.        , 0.        , 0.        ,\n",
       "       0.        , 0.        , 0.        , 0.        , 0.        ,\n",
       "       0.        , 0.        , 0.        , 0.        , 0.        ,\n",
       "       0.        , 0.        , 0.        , 0.        , 0.        ,\n",
       "       0.        , 0.        , 0.        , 0.        , 0.        ,\n",
       "       0.        , 0.        , 0.        , 0.        , 0.        ,\n",
       "       0.        , 0.        , 0.        , 0.        , 0.        ,\n",
       "       0.        , 0.        , 0.        , 0.        , 0.        ,\n",
       "       0.        , 0.        , 0.        , 0.        , 0.        ,\n",
       "       0.        , 0.        , 0.        , 0.        , 0.        ,\n",
       "       0.        , 0.        , 0.        , 0.        , 0.        ,\n",
       "       0.        , 0.        , 0.        , 0.        , 0.        ,\n",
       "       0.        , 0.        , 0.        , 0.        , 0.        ,\n",
       "       0.        , 0.        , 0.        , 0.        ])"
      ]
     },
     "execution_count": 21,
     "metadata": {},
     "output_type": "execute_result"
    }
   ],
   "source": [
    "X_train_flattened[0]"
   ]
  },
  {
   "cell_type": "code",
   "execution_count": 24,
   "id": "2bfa35aa",
   "metadata": {},
   "outputs": [
    {
     "name": "stdout",
     "output_type": "stream",
     "text": [
      "Epoch 1/40\n",
      "1875/1875 [==============================] - 1s 608us/step - loss: 0.4674 - accuracy: 0.8791\n",
      "Epoch 2/40\n",
      "1875/1875 [==============================] - 1s 624us/step - loss: 0.3035 - accuracy: 0.9153\n",
      "Epoch 3/40\n",
      "1875/1875 [==============================] - 1s 602us/step - loss: 0.2829 - accuracy: 0.9205\n",
      "Epoch 4/40\n",
      "1875/1875 [==============================] - 1s 617us/step - loss: 0.2726 - accuracy: 0.9238\n",
      "Epoch 5/40\n",
      "1875/1875 [==============================] - 1s 657us/step - loss: 0.2667 - accuracy: 0.9258\n",
      "Epoch 6/40\n",
      "1875/1875 [==============================] - 1s 626us/step - loss: 0.2617 - accuracy: 0.9268\n",
      "Epoch 7/40\n",
      "1875/1875 [==============================] - 1s 632us/step - loss: 0.2587 - accuracy: 0.9286\n",
      "Epoch 8/40\n",
      "1875/1875 [==============================] - 1s 617us/step - loss: 0.2553 - accuracy: 0.9297\n",
      "Epoch 9/40\n",
      "1875/1875 [==============================] - 1s 610us/step - loss: 0.2529 - accuracy: 0.9308\n",
      "Epoch 10/40\n",
      "1875/1875 [==============================] - 1s 602us/step - loss: 0.2508 - accuracy: 0.9307\n",
      "Epoch 11/40\n",
      "1875/1875 [==============================] - 1s 617us/step - loss: 0.2491 - accuracy: 0.9309\n",
      "Epoch 12/40\n",
      "1875/1875 [==============================] - 1s 622us/step - loss: 0.2480 - accuracy: 0.9315\n",
      "Epoch 13/40\n",
      "1875/1875 [==============================] - 1s 613us/step - loss: 0.2466 - accuracy: 0.9323\n",
      "Epoch 14/40\n",
      "1875/1875 [==============================] - 1s 605us/step - loss: 0.2450 - accuracy: 0.9322\n",
      "Epoch 15/40\n",
      "1875/1875 [==============================] - 1s 617us/step - loss: 0.2440 - accuracy: 0.9322\n",
      "Epoch 16/40\n",
      "1875/1875 [==============================] - 1s 597us/step - loss: 0.2432 - accuracy: 0.9330\n",
      "Epoch 17/40\n",
      "1875/1875 [==============================] - 1s 603us/step - loss: 0.2422 - accuracy: 0.9333\n",
      "Epoch 18/40\n",
      "1875/1875 [==============================] - 1s 605us/step - loss: 0.2412 - accuracy: 0.9332\n",
      "Epoch 19/40\n",
      "1875/1875 [==============================] - 1s 713us/step - loss: 0.2400 - accuracy: 0.9338\n",
      "Epoch 20/40\n",
      "1875/1875 [==============================] - 1s 634us/step - loss: 0.2395 - accuracy: 0.9336\n",
      "Epoch 21/40\n",
      "1875/1875 [==============================] - 1s 622us/step - loss: 0.2392 - accuracy: 0.9340\n",
      "Epoch 22/40\n",
      "1875/1875 [==============================] - 1s 621us/step - loss: 0.2387 - accuracy: 0.9337\n",
      "Epoch 23/40\n",
      "1875/1875 [==============================] - 1s 607us/step - loss: 0.2382 - accuracy: 0.9338\n",
      "Epoch 24/40\n",
      "1875/1875 [==============================] - 1s 622us/step - loss: 0.2374 - accuracy: 0.9344\n",
      "Epoch 25/40\n",
      "1875/1875 [==============================] - 1s 652us/step - loss: 0.2364 - accuracy: 0.9344\n",
      "Epoch 26/40\n",
      "1875/1875 [==============================] - 1s 632us/step - loss: 0.2366 - accuracy: 0.9344\n",
      "Epoch 27/40\n",
      "1875/1875 [==============================] - 1s 648us/step - loss: 0.2358 - accuracy: 0.9345\n",
      "Epoch 28/40\n",
      "1875/1875 [==============================] - 1s 625us/step - loss: 0.2352 - accuracy: 0.9344\n",
      "Epoch 29/40\n",
      "1875/1875 [==============================] - 1s 637us/step - loss: 0.2348 - accuracy: 0.9356\n",
      "Epoch 30/40\n",
      "1875/1875 [==============================] - 1s 632us/step - loss: 0.2345 - accuracy: 0.9359\n",
      "Epoch 31/40\n",
      "1875/1875 [==============================] - 1s 630us/step - loss: 0.2342 - accuracy: 0.9356\n",
      "Epoch 32/40\n",
      "1875/1875 [==============================] - 1s 651us/step - loss: 0.2340 - accuracy: 0.9352\n",
      "Epoch 33/40\n",
      "1875/1875 [==============================] - 1s 647us/step - loss: 0.2330 - accuracy: 0.9355\n",
      "Epoch 34/40\n",
      "1875/1875 [==============================] - 1s 661us/step - loss: 0.2336 - accuracy: 0.9348\n",
      "Epoch 35/40\n",
      "1875/1875 [==============================] - 1s 692us/step - loss: 0.2324 - accuracy: 0.9358\n",
      "Epoch 36/40\n",
      "1875/1875 [==============================] - 1s 645us/step - loss: 0.2322 - accuracy: 0.9355\n",
      "Epoch 37/40\n",
      "1875/1875 [==============================] - 1s 636us/step - loss: 0.2318 - accuracy: 0.9357\n",
      "Epoch 38/40\n",
      "1875/1875 [==============================] - 1s 612us/step - loss: 0.2320 - accuracy: 0.9353\n",
      "Epoch 39/40\n",
      "1875/1875 [==============================] - 1s 621us/step - loss: 0.2309 - accuracy: 0.9358\n",
      "Epoch 40/40\n",
      "1875/1875 [==============================] - 1s 622us/step - loss: 0.2311 - accuracy: 0.9357\n"
     ]
    },
    {
     "data": {
      "text/plain": [
       "<keras.callbacks.History at 0x22cfece6700>"
      ]
     },
     "execution_count": 24,
     "metadata": {},
     "output_type": "execute_result"
    }
   ],
   "source": [
    "model = keras.Sequential([\n",
    "    keras.layers.Dense(10, input_shape=(784,), activation='sigmoid')\n",
    "])\n",
    "\n",
    "model.compile(optimizer='adam',\n",
    "              loss='sparse_categorical_crossentropy',\n",
    "              metrics=['accuracy'])\n",
    "\n",
    "model.fit(X_train_flattened, y_train, epochs=40)"
   ]
  },
  {
   "cell_type": "code",
   "execution_count": 25,
   "id": "2a33bbec",
   "metadata": {},
   "outputs": [
    {
     "name": "stdout",
     "output_type": "stream",
     "text": [
      "313/313 [==============================] - 0s 620us/step - loss: 0.2786 - accuracy: 0.9276\n"
     ]
    },
    {
     "data": {
      "text/plain": [
       "[0.27857357263565063, 0.9276000261306763]"
      ]
     },
     "execution_count": 25,
     "metadata": {},
     "output_type": "execute_result"
    }
   ],
   "source": [
    "model.evaluate(X_test_flattened, y_test)"
   ]
  },
  {
   "cell_type": "code",
   "execution_count": 26,
   "id": "272572dc",
   "metadata": {},
   "outputs": [
    {
     "name": "stdout",
     "output_type": "stream",
     "text": [
      "313/313 [==============================] - 0s 510us/step\n"
     ]
    },
    {
     "data": {
      "text/plain": [
       "array([4.0141567e-06, 5.4767276e-12, 7.3029900e-05, 9.6651560e-01,\n",
       "       4.2928683e-04, 8.5529514e-02, 1.9148890e-12, 9.9988741e-01,\n",
       "       4.0342201e-02, 5.1219058e-01], dtype=float32)"
      ]
     },
     "execution_count": 26,
     "metadata": {},
     "output_type": "execute_result"
    }
   ],
   "source": [
    "y_predicted = model.predict(X_test_flattened)\n",
    "y_predicted[0]"
   ]
  },
  {
   "cell_type": "code",
   "execution_count": 27,
   "id": "98e605b1",
   "metadata": {},
   "outputs": [
    {
     "data": {
      "text/plain": [
       "<matplotlib.image.AxesImage at 0x22cfff70910>"
      ]
     },
     "execution_count": 27,
     "metadata": {},
     "output_type": "execute_result"
    },
    {
     "data": {
      "text/plain": [
       "<Figure size 432x288 with 0 Axes>"
      ]
     },
     "metadata": {},
     "output_type": "display_data"
    },
    {
     "data": {
      "image/png": "[encoded data removed]",
      "text/plain": [
       "<Figure size 288x288 with 1 Axes>"
      ]
     },
     "metadata": {
      "needs_background": "light"
     },
     "output_type": "display_data"
    }
   ],
   "source": [
    "plt.gray()\n",
    "plt.matshow(X_test[0])"
   ]
  },
  {
   "cell_type": "code",
   "execution_count": 28,
   "id": "06078600",
   "metadata": {},
   "outputs": [
    {
     "data": {
      "text/plain": [
       "7"
      ]
     },
     "execution_count": 28,
     "metadata": {},
     "output_type": "execute_result"
    }
   ],
   "source": [
    "np.argmax(y_predicted[0])"
   ]
  },
  {
   "cell_type": "code",
   "execution_count": 29,
   "id": "d6d0cdc0",
   "metadata": {},
   "outputs": [],
   "source": [
    "y_predicted_labels = [np.argmax(i) for i in y_predicted]"
   ]
  },
  {
   "cell_type": "code",
   "execution_count": 30,
   "id": "bcb54ac3",
   "metadata": {},
   "outputs": [
    {
     "data": {
      "text/plain": [
       "[7, 2, 1, 0, 4]"
      ]
     },
     "execution_count": 30,
     "metadata": {},
     "output_type": "execute_result"
    }
   ],
   "source": [
    "y_predicted_labels[:5]"
   ]
  },
  {
   "cell_type": "code",
   "execution_count": 31,
   "id": "98547ad2",
   "metadata": {},
   "outputs": [
    {
     "data": {
      "text/plain": [
       "<Figure size 432x288 with 0 Axes>"
      ]
     },
     "metadata": {},
     "output_type": "display_data"
    },
    {
     "data": {
      "image/png": "[encoded data removed]",
      "text/plain": [
       "<Figure size 288x288 with 1 Axes>"
      ]
     },
     "metadata": {
      "needs_background": "light"
     },
     "output_type": "display_data"
    },
    {
     "data": {
      "image/png": "[encoded data removed]",
      "text/plain": [
       "<Figure size 288x288 with 1 Axes>"
      ]
     },
     "metadata": {
      "needs_background": "light"
     },
     "output_type": "display_data"
    },
    {
     "data": {
      "image/png": "[encoded data removed]",
      "text/plain": [
       "<Figure size 288x288 with 1 Axes>"
      ]
     },
     "metadata": {
      "needs_background": "light"
     },
     "output_type": "display_data"
    },
    {
     "data": {
      "image/png": "[encoded data removed]",
      "text/plain": [
       "<Figure size 288x288 with 1 Axes>"
      ]
     },
     "metadata": {
      "needs_background": "light"
     },
     "output_type": "display_data"
    },
    {
     "data": {
      "image/png": "[encoded data removed]",
      "text/plain": [
       "<Figure size 288x288 with 1 Axes>"
      ]
     },
     "metadata": {
      "needs_background": "light"
     },
     "output_type": "display_data"
    }
   ],
   "source": [
    "for i in range(0,5):\n",
    "    plt.gray();\n",
    "    plt.matshow(X_test[i])"
   ]
  },
  {
   "cell_type": "code",
   "execution_count": 32,
   "id": "2274a38a",
   "metadata": {},
   "outputs": [
    {
     "data": {
      "text/plain": [
       "<tf.Tensor: shape=(10, 10), dtype=int32, numpy=\n",
       "array([[ 964,    0,    0,    2,    1,    5,    4,    3,    1,    0],\n",
       "       [   0, 1115,    6,    2,    0,    2,    3,    2,    5,    0],\n",
       "       [   6,    7,  946,   14,   10,    3,   10,    9,   23,    4],\n",
       "       [   3,    0,   20,  928,    2,   22,    2,   10,   17,    6],\n",
       "       [   1,    3,    7,    2,  925,    0,    7,    6,    7,   24],\n",
       "       [  10,    3,    3,   34,    9,  782,   14,    7,   26,    4],\n",
       "       [  13,    3,    8,    1,    7,   14,  910,    1,    1,    0],\n",
       "       [   1,    6,   25,    6,    5,    1,    0,  951,    3,   30],\n",
       "       [  11,   12,   10,   27,    9,   36,    9,   10,  839,   11],\n",
       "       [   9,    8,    1,   12,   29,    5,    0,   24,    5,  916]])>"
      ]
     },
     "execution_count": 32,
     "metadata": {},
     "output_type": "execute_result"
    }
   ],
   "source": [
    "cm = tf.math.confusion_matrix(labels=y_test,predictions=y_predicted_labels)\n",
    "cm"
   ]
  },
  {
   "cell_type": "code",
   "execution_count": 33,
   "id": "eff6c60e",
   "metadata": {},
   "outputs": [
    {
     "data": {
      "text/plain": [
       "Text(69.0, 0.5, 'Truth')"
      ]
     },
     "execution_count": 33,
     "metadata": {},
     "output_type": "execute_result"
    },
    {
     "data": {
      "image/png": "[encoded data removed]",
      "text/plain": [
       "<Figure size 720x504 with 2 Axes>"
      ]
     },
     "metadata": {
      "needs_background": "light"
     },
     "output_type": "display_data"
    }
   ],
   "source": [
    "import seaborn as sn\n",
    "plt.figure(figsize = (10,7))\n",
    "sn.heatmap(cm, annot=True, fmt='d')\n",
    "plt.xlabel('Predicted')\n",
    "plt.ylabel('Truth')"
   ]
  },
  {
   "cell_type": "code",
   "execution_count": 34,
   "id": "6e0ff1f8",
   "metadata": {},
   "outputs": [
    {
     "name": "stdout",
     "output_type": "stream",
     "text": [
      "Epoch 1/40\n",
      "1875/1875 [==============================] - 2s 746us/step - loss: 0.2711 - accuracy: 0.9230\n",
      "Epoch 2/40\n",
      "1875/1875 [==============================] - 1s 738us/step - loss: 0.1220 - accuracy: 0.9640\n",
      "Epoch 3/40\n",
      "1875/1875 [==============================] - 1s 730us/step - loss: 0.0862 - accuracy: 0.9743\n",
      "Epoch 4/40\n",
      "1875/1875 [==============================] - 1s 730us/step - loss: 0.0662 - accuracy: 0.9797\n",
      "Epoch 5/40\n",
      "1875/1875 [==============================] - 1s 767us/step - loss: 0.0537 - accuracy: 0.9835\n",
      "Epoch 6/40\n",
      "1875/1875 [==============================] - 1s 756us/step - loss: 0.0427 - accuracy: 0.9869\n",
      "Epoch 7/40\n",
      "1875/1875 [==============================] - 1s 746us/step - loss: 0.0349 - accuracy: 0.9893\n",
      "Epoch 8/40\n",
      "1875/1875 [==============================] - 1s 750us/step - loss: 0.0291 - accuracy: 0.9906\n",
      "Epoch 9/40\n",
      "1875/1875 [==============================] - 1s 738us/step - loss: 0.0232 - accuracy: 0.9929\n",
      "Epoch 10/40\n",
      "1875/1875 [==============================] - 1s 750us/step - loss: 0.0217 - accuracy: 0.9934\n",
      "Epoch 11/40\n",
      "1875/1875 [==============================] - 1s 749us/step - loss: 0.0170 - accuracy: 0.9946\n",
      "Epoch 12/40\n",
      "1875/1875 [==============================] - 1s 753us/step - loss: 0.0151 - accuracy: 0.9954\n",
      "Epoch 13/40\n",
      "1875/1875 [==============================] - 1s 751us/step - loss: 0.0126 - accuracy: 0.9961\n",
      "Epoch 14/40\n",
      "1875/1875 [==============================] - 1s 758us/step - loss: 0.0125 - accuracy: 0.9959\n",
      "Epoch 15/40\n",
      "1875/1875 [==============================] - 1s 764us/step - loss: 0.0087 - accuracy: 0.9976\n",
      "Epoch 16/40\n",
      "1875/1875 [==============================] - 1s 775us/step - loss: 0.0087 - accuracy: 0.9975\n",
      "Epoch 17/40\n",
      "1875/1875 [==============================] - 1s 774us/step - loss: 0.0080 - accuracy: 0.9975\n",
      "Epoch 18/40\n",
      "1875/1875 [==============================] - 1s 755us/step - loss: 0.0081 - accuracy: 0.9976\n",
      "Epoch 19/40\n",
      "1875/1875 [==============================] - 1s 757us/step - loss: 0.0054 - accuracy: 0.9987\n",
      "Epoch 20/40\n",
      "1875/1875 [==============================] - 1s 763us/step - loss: 0.0054 - accuracy: 0.9985\n",
      "Epoch 21/40\n",
      "1875/1875 [==============================] - 1s 757us/step - loss: 0.0079 - accuracy: 0.9973\n",
      "Epoch 22/40\n",
      "1875/1875 [==============================] - 1s 763us/step - loss: 0.0041 - accuracy: 0.9988\n",
      "Epoch 23/40\n",
      "1875/1875 [==============================] - 1s 757us/step - loss: 0.0062 - accuracy: 0.9980\n",
      "Epoch 24/40\n",
      "1875/1875 [==============================] - 1s 757us/step - loss: 0.0053 - accuracy: 0.9982\n",
      "Epoch 25/40\n",
      "1875/1875 [==============================] - 1s 759us/step - loss: 0.0040 - accuracy: 0.9988\n",
      "Epoch 26/40\n",
      "1875/1875 [==============================] - 1s 770us/step - loss: 0.0052 - accuracy: 0.9982\n",
      "Epoch 27/40\n",
      "1875/1875 [==============================] - 1s 786us/step - loss: 0.0049 - accuracy: 0.9986\n",
      "Epoch 28/40\n",
      "1875/1875 [==============================] - 1s 787us/step - loss: 0.0023 - accuracy: 0.9993\n",
      "Epoch 29/40\n",
      "1875/1875 [==============================] - 1s 765us/step - loss: 0.0040 - accuracy: 0.9985\n",
      "Epoch 30/40\n",
      "1875/1875 [==============================] - 1s 763us/step - loss: 0.0040 - accuracy: 0.9988\n",
      "Epoch 31/40\n",
      "1875/1875 [==============================] - 1s 752us/step - loss: 0.0036 - accuracy: 0.9988\n",
      "Epoch 32/40\n",
      "1875/1875 [==============================] - 1s 751us/step - loss: 0.0031 - accuracy: 0.9990\n",
      "Epoch 33/40\n",
      "1875/1875 [==============================] - 1s 751us/step - loss: 0.0035 - accuracy: 0.9988\n",
      "Epoch 34/40\n",
      "1875/1875 [==============================] - 1s 750us/step - loss: 0.0039 - accuracy: 0.9986\n",
      "Epoch 35/40\n",
      "1875/1875 [==============================] - 1s 752us/step - loss: 0.0029 - accuracy: 0.9991\n",
      "Epoch 36/40\n",
      "1875/1875 [==============================] - 1s 756us/step - loss: 0.0032 - accuracy: 0.9991\n",
      "Epoch 37/40\n",
      "1875/1875 [==============================] - 1s 759us/step - loss: 0.0036 - accuracy: 0.9989\n",
      "Epoch 38/40\n",
      "1875/1875 [==============================] - 1s 760us/step - loss: 0.0011 - accuracy: 0.9997\n",
      "Epoch 39/40\n",
      "1875/1875 [==============================] - 1s 784us/step - loss: 1.7388e-04 - accuracy: 1.0000\n",
      "Epoch 40/40\n",
      "1875/1875 [==============================] - 1s 757us/step - loss: 0.0051 - accuracy: 0.9983\n"
     ]
    },
    {
     "data": {
      "text/plain": [
       "<keras.callbacks.History at 0x22c9d52f7f0>"
      ]
     },
     "execution_count": 34,
     "metadata": {},
     "output_type": "execute_result"
    }
   ],
   "source": [
    "model = keras.Sequential([\n",
    "    keras.layers.Dense(100, input_shape=(784,), activation='relu'),\n",
    "    keras.layers.Dense(10, activation='sigmoid')\n",
    "])\n",
    "\n",
    "model.compile(optimizer='adam',\n",
    "              loss='sparse_categorical_crossentropy',\n",
    "              metrics=['accuracy'])\n",
    "\n",
    "model.fit(X_train_flattened, y_train, epochs=40)"
   ]
  },
  {
   "cell_type": "code",
   "execution_count": 35,
   "id": "76019cb5",
   "metadata": {},
   "outputs": [
    {
     "name": "stdout",
     "output_type": "stream",
     "text": [
      "313/313 [==============================] - 0s 656us/step - loss: 0.1706 - accuracy: 0.9763\n"
     ]
    },
    {
     "data": {
      "text/plain": [
       "[0.17061063647270203, 0.9763000011444092]"
      ]
     },
     "execution_count": 35,
     "metadata": {},
     "output_type": "execute_result"
    }
   ],
   "source": [
    "model.evaluate(X_test_flattened,y_test)"
   ]
  },
  {
   "cell_type": "code",
   "execution_count": 36,
   "id": "e18d7b29",
   "metadata": {},
   "outputs": [
    {
     "name": "stdout",
     "output_type": "stream",
     "text": [
      "313/313 [==============================] - 0s 543us/step\n"
     ]
    },
    {
     "data": {
      "text/plain": [
       "Text(69.0, 0.5, 'Truth')"
      ]
     },
     "execution_count": 36,
     "metadata": {},
     "output_type": "execute_result"
    },
    {
     "data": {
      "image/png": "[encoded data removed]",
      "text/plain": [
       "<Figure size 720x504 with 2 Axes>"
      ]
     },
     "metadata": {
      "needs_background": "light"
     },
     "output_type": "display_data"
    }
   ],
   "source": [
    "y_predicted = model.predict(X_test_flattened)\n",
    "y_predicted_labels = [np.argmax(i) for i in y_predicted]\n",
    "cm = tf.math.confusion_matrix(labels=y_test,predictions=y_predicted_labels)\n",
    "\n",
    "plt.figure(figsize = (10,7))\n",
    "sn.heatmap(cm, annot=True, fmt='d')\n",
    "plt.xlabel('Predicted')\n",
    "plt.ylabel('Truth')"
   ]
  },
  {
   "cell_type": "code",
   "execution_count": 37,
   "id": "a39023ae",
   "metadata": {},
   "outputs": [
    {
     "name": "stdout",
     "output_type": "stream",
     "text": [
      "Epoch 1/40\n",
      "1875/1875 [==============================] - 2s 745us/step - loss: 0.2719 - accuracy: 0.9227\n",
      "Epoch 2/40\n",
      "1875/1875 [==============================] - 1s 744us/step - loss: 0.1227 - accuracy: 0.9648\n",
      "Epoch 3/40\n",
      "1875/1875 [==============================] - 2s 795us/step - loss: 0.0871 - accuracy: 0.9736\n",
      "Epoch 4/40\n",
      "1875/1875 [==============================] - 1s 755us/step - loss: 0.0681 - accuracy: 0.9790\n",
      "Epoch 5/40\n",
      "1875/1875 [==============================] - 1s 750us/step - loss: 0.0534 - accuracy: 0.9830\n",
      "Epoch 6/40\n",
      "1875/1875 [==============================] - 1s 744us/step - loss: 0.0434 - accuracy: 0.9865\n",
      "Epoch 7/40\n",
      "1875/1875 [==============================] - 1s 777us/step - loss: 0.0347 - accuracy: 0.9893\n",
      "Epoch 8/40\n",
      "1875/1875 [==============================] - 1s 758us/step - loss: 0.0286 - accuracy: 0.9912\n",
      "Epoch 9/40\n",
      "1875/1875 [==============================] - 1s 753us/step - loss: 0.0244 - accuracy: 0.9923\n",
      "Epoch 10/40\n",
      "1875/1875 [==============================] - 1s 758us/step - loss: 0.0200 - accuracy: 0.9937\n",
      "Epoch 11/40\n",
      "1875/1875 [==============================] - 1s 778us/step - loss: 0.0177 - accuracy: 0.9944\n",
      "Epoch 12/40\n",
      "1875/1875 [==============================] - 1s 772us/step - loss: 0.0150 - accuracy: 0.9952\n",
      "Epoch 13/40\n",
      "1875/1875 [==============================] - 1s 749us/step - loss: 0.0128 - accuracy: 0.9958\n",
      "Epoch 14/40\n",
      "1875/1875 [==============================] - 2s 800us/step - loss: 0.0113 - accuracy: 0.9968\n",
      "Epoch 15/40\n",
      "1875/1875 [==============================] - 1s 775us/step - loss: 0.0094 - accuracy: 0.9972\n",
      "Epoch 16/40\n",
      "1875/1875 [==============================] - 1s 764us/step - loss: 0.0099 - accuracy: 0.9972\n",
      "Epoch 17/40\n",
      "1875/1875 [==============================] - 1s 788us/step - loss: 0.0086 - accuracy: 0.9974\n",
      "Epoch 18/40\n",
      "1875/1875 [==============================] - 1s 764us/step - loss: 0.0073 - accuracy: 0.9978\n",
      "Epoch 19/40\n",
      "1875/1875 [==============================] - 1s 772us/step - loss: 0.0072 - accuracy: 0.9976\n",
      "Epoch 20/40\n",
      "1875/1875 [==============================] - 1s 760us/step - loss: 0.0060 - accuracy: 0.9984\n",
      "Epoch 21/40\n",
      "1875/1875 [==============================] - 1s 769us/step - loss: 0.0059 - accuracy: 0.9981\n",
      "Epoch 22/40\n",
      "1875/1875 [==============================] - 1s 767us/step - loss: 0.0064 - accuracy: 0.9980\n",
      "Epoch 23/40\n",
      "1875/1875 [==============================] - 1s 793us/step - loss: 0.0041 - accuracy: 0.9988\n",
      "Epoch 24/40\n",
      "1875/1875 [==============================] - 1s 775us/step - loss: 0.0058 - accuracy: 0.9980\n",
      "Epoch 25/40\n",
      "1875/1875 [==============================] - 1s 785us/step - loss: 0.0045 - accuracy: 0.9985\n",
      "Epoch 26/40\n",
      "1875/1875 [==============================] - 1s 761us/step - loss: 0.0053 - accuracy: 0.9983\n",
      "Epoch 27/40\n",
      "1875/1875 [==============================] - 1s 747us/step - loss: 0.0045 - accuracy: 0.9988\n",
      "Epoch 28/40\n",
      "1875/1875 [==============================] - 1s 755us/step - loss: 0.0048 - accuracy: 0.9983\n",
      "Epoch 29/40\n",
      "1875/1875 [==============================] - 1s 754us/step - loss: 0.0041 - accuracy: 0.9988\n",
      "Epoch 30/40\n",
      "1875/1875 [==============================] - 1s 751us/step - loss: 0.0033 - accuracy: 0.9990\n",
      "Epoch 31/40\n",
      "1875/1875 [==============================] - 1s 749us/step - loss: 0.0032 - accuracy: 0.9992\n",
      "Epoch 32/40\n",
      "1875/1875 [==============================] - 1s 761us/step - loss: 0.0046 - accuracy: 0.9985\n",
      "Epoch 33/40\n",
      "1875/1875 [==============================] - 1s 749us/step - loss: 0.0054 - accuracy: 0.9980\n",
      "Epoch 34/40\n",
      "1875/1875 [==============================] - 1s 754us/step - loss: 0.0032 - accuracy: 0.9989\n",
      "Epoch 35/40\n",
      "1875/1875 [==============================] - 1s 750us/step - loss: 0.0036 - accuracy: 0.9988\n",
      "Epoch 36/40\n",
      "1875/1875 [==============================] - 1s 776us/step - loss: 0.0024 - accuracy: 0.9994\n",
      "Epoch 37/40\n",
      "1875/1875 [==============================] - 1s 765us/step - loss: 0.0041 - accuracy: 0.9988\n",
      "Epoch 38/40\n",
      "1875/1875 [==============================] - 1s 748us/step - loss: 0.0028 - accuracy: 0.9991\n",
      "Epoch 39/40\n",
      "1875/1875 [==============================] - 1s 747us/step - loss: 0.0037 - accuracy: 0.9989\n",
      "Epoch 40/40\n",
      "1875/1875 [==============================] - 1s 752us/step - loss: 0.0029 - accuracy: 0.9988\n"
     ]
    },
    {
     "data": {
      "text/plain": [
       "<keras.callbacks.History at 0x22cdc88b850>"
      ]
     },
     "execution_count": 37,
     "metadata": {},
     "output_type": "execute_result"
    }
   ],
   "source": [
    "model = keras.Sequential([\n",
    "    keras.layers.Flatten(input_shape=(28, 28)),\n",
    "    keras.layers.Dense(100, activation='relu'),\n",
    "    keras.layers.Dense(10, activation='sigmoid')\n",
    "])\n",
    "\n",
    "model.compile(optimizer='adam',\n",
    "              loss='sparse_categorical_crossentropy',\n",
    "              metrics=['accuracy'])\n",
    "\n",
    "model.fit(X_train, y_train, epochs=40)"
   ]
  },
  {
   "cell_type": "code",
   "execution_count": 38,
   "id": "b4d55ebf",
   "metadata": {},
   "outputs": [
    {
     "name": "stdout",
     "output_type": "stream",
     "text": [
      "313/313 [==============================] - 0s 652us/step - loss: 0.1556 - accuracy: 0.9753\n"
     ]
    },
    {
     "data": {
      "text/plain": [
       "[0.15557515621185303, 0.9753000140190125]"
      ]
     },
     "execution_count": 38,
     "metadata": {},
     "output_type": "execute_result"
    }
   ],
   "source": [
    "model.evaluate(X_test,y_test)"
   ]
  },
  {
   "cell_type": "code",
   "execution_count": 40,
   "id": "40ce2d6a",
   "metadata": {},
   "outputs": [
    {
     "name": "stdout",
     "output_type": "stream",
     "text": [
      "313/313 [==============================] - 0s 584us/step\n"
     ]
    },
    {
     "data": {
      "text/plain": [
       "Text(69.0, 0.5, 'Truth')"
      ]
     },
     "execution_count": 40,
     "metadata": {},
     "output_type": "execute_result"
    },
    {
     "data": {
      "image/png": "[encoded data removed]",
      "text/plain": [
       "<Figure size 720x504 with 2 Axes>"
      ]
     },
     "metadata": {
      "needs_background": "light"
     },
     "output_type": "display_data"
    }
   ],
   "source": [
    "y_predicted = model.predict(X_test)\n",
    "y_predicted_labels = [np.argmax(i) for i in y_predicted]\n",
    "cm = tf.math.confusion_matrix(labels=y_test,predictions=y_predicted_labels)\n",
    "\n",
    "plt.figure(figsize = (10,7))\n",
    "sn.heatmap(cm, annot=True, fmt='d')\n",
    "plt.xlabel('Predicted')\n",
    "plt.ylabel('Truth')"
   ]
  },
  {
   "cell_type": "code",
   "execution_count": 47,
   "id": "da4deafc",
   "metadata": {},
   "outputs": [],
   "source": [
    "model = Sequential()\n",
    "\n",
    "model.add(Conv2D(filters = 32, kernel_size = (5,5),padding = 'Same', \n",
    "                 activation ='relu', input_shape = (28,28,1)))\n",
    "model.add(Conv2D(filters = 32, kernel_size = (5,5),padding = 'Same', \n",
    "                 activation ='relu'))\n",
    "model.add(MaxPool2D(pool_size=(2,2)))\n",
    "model.add(Dropout(0.25))\n",
    "\n",
    "\n",
    "model.add(Conv2D(filters = 64, kernel_size = (3,3),padding = 'Same', \n",
    "                 activation ='relu'))\n",
    "model.add(Conv2D(filters = 64, kernel_size = (3,3),padding = 'Same', \n",
    "                 activation ='relu'))\n",
    "model.add(MaxPool2D(pool_size=(2,2), strides=(2,2)))\n",
    "model.add(Dropout(0.25))\n",
    "\n",
    "\n",
    "model.add(Flatten())\n",
    "model.add(Dense(256, activation = \"relu\"))\n",
    "model.add(Dropout(0.5))\n",
    "model.add(Dense(10, activation = \"softmax\"))"
   ]
  },
  {
   "cell_type": "code",
   "execution_count": 50,
   "id": "f96949e9",
   "metadata": {},
   "outputs": [
    {
     "name": "stdout",
     "output_type": "stream",
     "text": [
      "Epoch 1/40\n",
      "1875/1875 [==============================] - 101s 54ms/step - loss: 0.1690 - accuracy: 0.9472\n",
      "Epoch 2/40\n",
      "1875/1875 [==============================] - 104s 55ms/step - loss: 0.0648 - accuracy: 0.9811\n",
      "Epoch 3/40\n",
      "1875/1875 [==============================] - 104s 55ms/step - loss: 0.0522 - accuracy: 0.9849\n",
      "Epoch 4/40\n",
      "1875/1875 [==============================] - 107s 57ms/step - loss: 0.0417 - accuracy: 0.9873\n",
      "Epoch 5/40\n",
      "1875/1875 [==============================] - 108s 58ms/step - loss: 0.0371 - accuracy: 0.9893\n",
      "Epoch 6/40\n",
      "1875/1875 [==============================] - 109s 58ms/step - loss: 0.0350 - accuracy: 0.9892\n",
      "Epoch 7/40\n",
      "1875/1875 [==============================] - 108s 58ms/step - loss: 0.0312 - accuracy: 0.9906\n",
      "Epoch 8/40\n",
      "1875/1875 [==============================] - 107s 57ms/step - loss: 0.0287 - accuracy: 0.9912\n",
      "Epoch 9/40\n",
      "1875/1875 [==============================] - 109s 58ms/step - loss: 0.0262 - accuracy: 0.9919\n",
      "Epoch 10/40\n",
      "1875/1875 [==============================] - 108s 57ms/step - loss: 0.0255 - accuracy: 0.9924\n",
      "Epoch 11/40\n",
      "1875/1875 [==============================] - 108s 58ms/step - loss: 0.0251 - accuracy: 0.9920\n",
      "Epoch 12/40\n",
      "1875/1875 [==============================] - 108s 58ms/step - loss: 0.0222 - accuracy: 0.9933\n",
      "Epoch 13/40\n",
      "1875/1875 [==============================] - 109s 58ms/step - loss: 0.0222 - accuracy: 0.9933\n",
      "Epoch 14/40\n",
      "1875/1875 [==============================] - 109s 58ms/step - loss: 0.0213 - accuracy: 0.9934\n",
      "Epoch 15/40\n",
      "1875/1875 [==============================] - 108s 57ms/step - loss: 0.0231 - accuracy: 0.9934\n",
      "Epoch 16/40\n",
      "1875/1875 [==============================] - 108s 58ms/step - loss: 0.0213 - accuracy: 0.9937\n",
      "Epoch 17/40\n",
      "1875/1875 [==============================] - 105s 56ms/step - loss: 0.0227 - accuracy: 0.9934\n",
      "Epoch 18/40\n",
      "1875/1875 [==============================] - 100s 53ms/step - loss: 0.0209 - accuracy: 0.9937\n",
      "Epoch 19/40\n",
      "1875/1875 [==============================] - 100s 54ms/step - loss: 0.0201 - accuracy: 0.9937\n",
      "Epoch 20/40\n",
      "1875/1875 [==============================] - 101s 54ms/step - loss: 0.0199 - accuracy: 0.9943\n",
      "Epoch 21/40\n",
      "1875/1875 [==============================] - 105s 56ms/step - loss: 0.0195 - accuracy: 0.9943\n",
      "Epoch 22/40\n",
      "1875/1875 [==============================] - 107s 57ms/step - loss: 0.0200 - accuracy: 0.9942\n",
      "Epoch 23/40\n",
      "1875/1875 [==============================] - 109s 58ms/step - loss: 0.0168 - accuracy: 0.9952\n",
      "Epoch 24/40\n",
      "1875/1875 [==============================] - 110s 58ms/step - loss: 0.0203 - accuracy: 0.9942\n",
      "Epoch 25/40\n",
      "1875/1875 [==============================] - 110s 59ms/step - loss: 0.0191 - accuracy: 0.9947\n",
      "Epoch 26/40\n",
      "1875/1875 [==============================] - 109s 58ms/step - loss: 0.0215 - accuracy: 0.9942\n",
      "Epoch 27/40\n",
      "1875/1875 [==============================] - 109s 58ms/step - loss: 0.0189 - accuracy: 0.9946\n",
      "Epoch 28/40\n",
      "1875/1875 [==============================] - 108s 58ms/step - loss: 0.0174 - accuracy: 0.9950\n",
      "Epoch 29/40\n",
      "1875/1875 [==============================] - 108s 58ms/step - loss: 0.0176 - accuracy: 0.9946\n",
      "Epoch 30/40\n",
      "1875/1875 [==============================] - 109s 58ms/step - loss: 0.0213 - accuracy: 0.9941\n",
      "Epoch 31/40\n",
      "1875/1875 [==============================] - 108s 58ms/step - loss: 0.0193 - accuracy: 0.9947\n",
      "Epoch 32/40\n",
      "1875/1875 [==============================] - 108s 58ms/step - loss: 0.0180 - accuracy: 0.9948\n",
      "Epoch 33/40\n",
      "1875/1875 [==============================] - 108s 58ms/step - loss: 0.0204 - accuracy: 0.9945\n",
      "Epoch 34/40\n",
      "1875/1875 [==============================] - 109s 58ms/step - loss: 0.0180 - accuracy: 0.9951\n",
      "Epoch 35/40\n",
      "1875/1875 [==============================] - 108s 57ms/step - loss: 0.0189 - accuracy: 0.9952\n",
      "Epoch 36/40\n",
      "1875/1875 [==============================] - 108s 58ms/step - loss: 0.0182 - accuracy: 0.9952\n",
      "Epoch 37/40\n",
      "1875/1875 [==============================] - 107s 57ms/step - loss: 0.0183 - accuracy: 0.9952\n",
      "Epoch 38/40\n",
      "1875/1875 [==============================] - 107s 57ms/step - loss: 0.0179 - accuracy: 0.9950\n",
      "Epoch 39/40\n",
      "1875/1875 [==============================] - 107s 57ms/step - loss: 0.0185 - accuracy: 0.9950\n",
      "Epoch 40/40\n",
      "1875/1875 [==============================] - 108s 57ms/step - loss: 0.0187 - accuracy: 0.9948\n"
     ]
    },
    {
     "data": {
      "text/plain": [
       "<keras.callbacks.History at 0x22c928d2e50>"
      ]
     },
     "execution_count": 50,
     "metadata": {},
     "output_type": "execute_result"
    }
   ],
   "source": [
    "model.compile(optimizer='adam',\n",
    "              loss='sparse_categorical_crossentropy',\n",
    "              metrics=['accuracy'])\n",
    "model.fit(X_train, y_train, epochs=40)"
   ]
  },
  {
   "cell_type": "code",
   "execution_count": 51,
   "id": "e555420f",
   "metadata": {},
   "outputs": [
    {
     "name": "stdout",
     "output_type": "stream",
     "text": [
      "313/313 [==============================] - 3s 8ms/step - loss: 0.0233 - accuracy: 0.9946\n"
     ]
    },
    {
     "data": {
      "text/plain": [
       "[0.023281199857592583, 0.9945999979972839]"
      ]
     },
     "execution_count": 51,
     "metadata": {},
     "output_type": "execute_result"
    }
   ],
   "source": [
    "model.evaluate(X_test,y_test)"
   ]
  },
  {
   "cell_type": "code",
   "execution_count": 52,
   "id": "45ec908b",
   "metadata": {},
   "outputs": [
    {
     "name": "stdout",
     "output_type": "stream",
     "text": [
      "313/313 [==============================] - 3s 9ms/step\n"
     ]
    },
    {
     "data": {
      "text/plain": [
       "Text(69.0, 0.5, 'Truth')"
      ]
     },
     "execution_count": 52,
     "metadata": {},
     "output_type": "execute_result"
    },
    {
     "data": {
      "image/png": "[encoded data removed]",
      "text/plain": [
       "<Figure size 720x504 with 2 Axes>"
      ]
     },
     "metadata": {
      "needs_background": "light"
     },
     "output_type": "display_data"
    }
   ],
   "source": [
    "y_predicted = model.predict(X_test)\n",
    "y_predicted_labels = [np.argmax(i) for i in y_predicted]\n",
    "cm = tf.math.confusion_matrix(labels=y_test,predictions=y_predicted_labels)\n",
    "\n",
    "plt.figure(figsize = (10,7))\n",
    "sn.heatmap(cm, annot=True, fmt='d')\n",
    "plt.xlabel('Predicted')\n",
    "plt.ylabel('Truth')"
   ]
  },
  {
   "cell_type": "code",
   "execution_count": null,
   "id": "a5c74748",
   "metadata": {},
   "outputs": [],
   "source": []
  }
 ],
 "metadata": {
  "kernelspec": {
   "display_name": "Python 3 (ipykernel)",
   "language": "python",
   "name": "python3"
  },
  "language_info": {
   "codemirror_mode": {
    "name": "ipython",
    "version": 3
   },
   "file_extension": ".py",
   "mimetype": "text/x-python",
   "name": "python",
   "nbconvert_exporter": "python",
   "pygments_lexer": "ipython3",
   "version": "3.9.12"
  }
 },
 "nbformat": 4,
 "nbformat_minor": 5
}
